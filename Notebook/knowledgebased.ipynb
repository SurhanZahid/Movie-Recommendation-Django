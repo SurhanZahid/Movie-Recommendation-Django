{
 "nbformat": 4,
 "nbformat_minor": 2,
 "metadata": {
  "language_info": {
   "name": "python",
   "codemirror_mode": {
    "name": "ipython",
    "version": 3
   },
   "version": "3.7.1-final"
  },
  "orig_nbformat": 2,
  "file_extension": ".py",
  "mimetype": "text/x-python",
  "name": "python",
  "npconvert_exporter": "python",
  "pygments_lexer": "ipython3",
  "version": 3,
  "kernelspec": {
   "name": "python3",
   "display_name": "Python 3"
  }
 },
 "cells": [
  {
   "cell_type": "code",
   "execution_count": 1,
   "metadata": {},
   "outputs": [],
   "source": [
    "import numpy as np\n",
    "import pandas as pd\n",
    "import pymysql\n",
    "import time"
   ]
  },
  {
   "cell_type": "code",
   "execution_count": 2,
   "metadata": {},
   "outputs": [],
   "source": [
    "connection = pymysql.connect(\"localhost\", \"root\", \"\", \"moviereviews\")\n",
    "\n",
    "movies = pd.read_sql_query(\"SELECT * from movies_movies\", connection)\n",
    "ratings = pd.read_sql_query(\"SELECT * from movies_ratings\", connection)"
   ]
  },
  {
   "cell_type": "code",
   "execution_count": 3,
   "metadata": {},
   "outputs": [
    {
     "data": {
      "text/html": "<div>\n<style scoped>\n    .dataframe tbody tr th:only-of-type {\n        vertical-align: middle;\n    }\n\n    .dataframe tbody tr th {\n        vertical-align: top;\n    }\n\n    .dataframe thead th {\n        text-align: right;\n    }\n</style>\n<table border=\"1\" class=\"dataframe\">\n  <thead>\n    <tr style=\"text-align: right;\">\n      <th></th>\n      <th>id</th>\n      <th>title</th>\n      <th>genres</th>\n    </tr>\n  </thead>\n  <tbody>\n    <tr>\n      <th>0</th>\n      <td>1</td>\n      <td>Toy Story 2</td>\n      <td>Comedy | Action</td>\n    </tr>\n    <tr>\n      <th>1</th>\n      <td>2</td>\n      <td>Jumanji (1995)</td>\n      <td>Adventure|Children|Fantasy</td>\n    </tr>\n    <tr>\n      <th>2</th>\n      <td>3</td>\n      <td>Grumpier Old Men (1995)</td>\n      <td>Comedy|Romance</td>\n    </tr>\n    <tr>\n      <th>3</th>\n      <td>4</td>\n      <td>Waiting to Exhale (1995)</td>\n      <td>Comedy|Drama|Romance</td>\n    </tr>\n    <tr>\n      <th>4</th>\n      <td>6</td>\n      <td>Heat (1995)</td>\n      <td>Action|Crime|Thriller</td>\n    </tr>\n  </tbody>\n</table>\n</div>",
      "text/plain": "   id                     title                      genres\n0   1               Toy Story 2             Comedy | Action\n1   2            Jumanji (1995)  Adventure|Children|Fantasy\n2   3   Grumpier Old Men (1995)              Comedy|Romance\n3   4  Waiting to Exhale (1995)        Comedy|Drama|Romance\n4   6               Heat (1995)       Action|Crime|Thriller"
     },
     "execution_count": 3,
     "metadata": {},
     "output_type": "execute_result"
    }
   ],
   "source": [
    "movies.head()"
   ]
  },
  {
   "cell_type": "code",
   "execution_count": 4,
   "metadata": {},
   "outputs": [
    {
     "data": {
      "text/html": "<div>\n<style scoped>\n    .dataframe tbody tr th:only-of-type {\n        vertical-align: middle;\n    }\n\n    .dataframe tbody tr th {\n        vertical-align: top;\n    }\n\n    .dataframe thead th {\n        text-align: right;\n    }\n</style>\n<table border=\"1\" class=\"dataframe\">\n  <thead>\n    <tr style=\"text-align: right;\">\n      <th></th>\n      <th>id</th>\n      <th>rating</th>\n      <th>movieId_id</th>\n      <th>userId_id</th>\n      <th>timestamp</th>\n    </tr>\n  </thead>\n  <tbody>\n    <tr>\n      <th>0</th>\n      <td>1</td>\n      <td>4.5</td>\n      <td>1</td>\n      <td>1</td>\n      <td>0</td>\n    </tr>\n    <tr>\n      <th>1</th>\n      <td>2</td>\n      <td>4.0</td>\n      <td>1</td>\n      <td>1</td>\n      <td>964982703</td>\n    </tr>\n    <tr>\n      <th>2</th>\n      <td>3</td>\n      <td>4.0</td>\n      <td>3</td>\n      <td>1</td>\n      <td>964981247</td>\n    </tr>\n    <tr>\n      <th>3</th>\n      <td>4</td>\n      <td>4.0</td>\n      <td>6</td>\n      <td>1</td>\n      <td>964982224</td>\n    </tr>\n    <tr>\n      <th>4</th>\n      <td>5</td>\n      <td>5.0</td>\n      <td>47</td>\n      <td>1</td>\n      <td>964983815</td>\n    </tr>\n  </tbody>\n</table>\n</div>",
      "text/plain": "   id  rating  movieId_id  userId_id  timestamp\n0   1     4.5           1          1          0\n1   2     4.0           1          1  964982703\n2   3     4.0           3          1  964981247\n3   4     4.0           6          1  964982224\n4   5     5.0          47          1  964983815"
     },
     "execution_count": 4,
     "metadata": {},
     "output_type": "execute_result"
    }
   ],
   "source": [
    "ratings.head()"
   ]
  },
  {
   "cell_type": "code",
   "execution_count": 9,
   "metadata": {},
   "outputs": [],
   "source": [
    "def create_ranked_df(movies, reviews):\n",
    "    movie_ratings = ratings.groupby('movieId_id')['rating']\n",
    "    avg_ratings = movie_ratings.mean()\n",
    "    num_ratings = movie_ratings.count()\n",
    "    last_rating = ratings.groupby('movieId_id').max()['timestamp']\n",
    "    last_rating.columns = ['last_rating']\n",
    "    rating_count_df = pd.DataFrame({'avg_rating': avg_ratings, 'num_ratings': num_ratings})\n",
    "    rating_count_df = rating_count_df.join(last_rating)\n",
    "    movie_recs = movies.set_index('id').join(rating_count_df)\n",
    "    ranked_movies = movie_recs.sort_values(['avg_rating', 'num_ratings', 'timestamp'], ascending=False)\n",
    "    ranked_movies = ranked_movies[ranked_movies['num_ratings'] > 4]\n",
    "    \n",
    "    return ranked_movies"
   ]
  },
  {
   "cell_type": "code",
   "execution_count": 10,
   "metadata": {},
   "outputs": [
    {
     "data": {
      "text/html": "<div>\n<style scoped>\n    .dataframe tbody tr th:only-of-type {\n        vertical-align: middle;\n    }\n\n    .dataframe tbody tr th {\n        vertical-align: top;\n    }\n\n    .dataframe thead th {\n        text-align: right;\n    }\n</style>\n<table border=\"1\" class=\"dataframe\">\n  <thead>\n    <tr style=\"text-align: right;\">\n      <th></th>\n      <th>title</th>\n      <th>genres</th>\n      <th>avg_rating</th>\n      <th>num_ratings</th>\n      <th>timestamp</th>\n    </tr>\n    <tr>\n      <th>id</th>\n      <th></th>\n      <th></th>\n      <th></th>\n      <th></th>\n      <th></th>\n    </tr>\n  </thead>\n  <tbody>\n    <tr>\n      <th>1222</th>\n      <td>Stand by Me (1986)</td>\n      <td>Adventure|Drama</td>\n      <td>4.7000</td>\n      <td>5.0</td>\n      <td>1.455050e+09</td>\n    </tr>\n    <tr>\n      <th>1270</th>\n      <td>Hype! (1996)</td>\n      <td>Documentary</td>\n      <td>4.6875</td>\n      <td>8.0</td>\n      <td>1.510572e+09</td>\n    </tr>\n    <tr>\n      <th>3147</th>\n      <td>Bless the Child (2000)</td>\n      <td>Thriller</td>\n      <td>4.6000</td>\n      <td>5.0</td>\n      <td>1.510572e+09</td>\n    </tr>\n    <tr>\n      <th>590</th>\n      <td>Dances with Wolves (1990)</td>\n      <td>Adventure|Drama|Western</td>\n      <td>4.5000</td>\n      <td>7.0</td>\n      <td>1.455210e+09</td>\n    </tr>\n    <tr>\n      <th>923</th>\n      <td>Citizen Kane (1941)</td>\n      <td>Drama|Mystery</td>\n      <td>4.5000</td>\n      <td>5.0</td>\n      <td>1.455060e+09</td>\n    </tr>\n  </tbody>\n</table>\n</div>",
      "text/plain": "                          title                   genres  avg_rating  \\\nid                                                                     \n1222         Stand by Me (1986)          Adventure|Drama      4.7000   \n1270               Hype! (1996)              Documentary      4.6875   \n3147     Bless the Child (2000)                 Thriller      4.6000   \n590   Dances with Wolves (1990)  Adventure|Drama|Western      4.5000   \n923         Citizen Kane (1941)            Drama|Mystery      4.5000   \n\n      num_ratings     timestamp  \nid                               \n1222          5.0  1.455050e+09  \n1270          8.0  1.510572e+09  \n3147          5.0  1.510572e+09  \n590           7.0  1.455210e+09  \n923           5.0  1.455060e+09  "
     },
     "execution_count": 10,
     "metadata": {},
     "output_type": "execute_result"
    }
   ],
   "source": [
    "ranked_movies = create_ranked_df(movies, ratings)\n",
    "ranked_movies.head()"
   ]
  },
  {
   "cell_type": "code",
   "execution_count": null,
   "metadata": {},
   "outputs": [],
   "source": []
  }
 ]
}
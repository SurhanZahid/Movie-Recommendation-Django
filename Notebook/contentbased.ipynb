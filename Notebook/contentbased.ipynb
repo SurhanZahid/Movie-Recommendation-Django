{
 "nbformat": 4,
 "nbformat_minor": 2,
 "metadata": {
  "language_info": {
   "name": "python",
   "codemirror_mode": {
    "name": "ipython",
    "version": 3
   },
   "version": "3.6.8-final"
  },
  "orig_nbformat": 2,
  "file_extension": ".py",
  "mimetype": "text/x-python",
  "name": "python",
  "npconvert_exporter": "python",
  "pygments_lexer": "ipython3",
  "version": 3,
  "kernelspec": {
   "name": "python36864bitd0c24a22e5e140d0ac37e3c9e7479224",
   "display_name": "Python 3.6.8 64-bit"
  }
 },
 "cells": [
  {
   "cell_type": "code",
   "execution_count": 7,
   "metadata": {},
   "outputs": [],
   "source": [
    "import numpy as np\n",
    "import pandas as pd\n",
    "import pymysql\n",
    "import time\n",
    "from sklearn.feature_extraction.text import TfidfVectorizer\n",
    "from sklearn.metrics.pairwise import linear_kernel"
   ]
  },
  {
   "cell_type": "code",
   "execution_count": 3,
   "metadata": {},
   "outputs": [],
   "source": [
    "connection = pymysql.connect(\"localhost\", \"root\", \"\", \"moviereviews\")\n",
    "ds = pd.read_sql_query(\"SELECT * from movies_movies\", connection)"
   ]
  },
  {
   "cell_type": "code",
   "execution_count": 16,
   "metadata": {},
   "outputs": [],
   "source": [
    "tf = TfidfVectorizer(analyzer='word', ngram_range=(1, 3), min_df=0, stop_words='english')\n",
    "tfidf_matrix = tf.fit_transform(ds['title'])"
   ]
  },
  {
   "cell_type": "code",
   "execution_count": 17,
   "metadata": {},
   "outputs": [],
   "source": [
    "cosine_similarities = linear_kernel(tfidf_matrix, tfidf_matrix)"
   ]
  },
  {
   "cell_type": "code",
   "execution_count": 18,
   "metadata": {},
   "outputs": [
    {
     "output_type": "stream",
     "name": "stdout",
     "text": "done!\n"
    }
   ],
   "source": [
    "results = {}\n",
    "\n",
    "for idx, row in ds.iterrows():\n",
    "    similar_indices = cosine_similarities[idx].argsort()[:-100:-1]\n",
    "    similar_items = [(cosine_similarities[idx][i], ds['id'][i]) for i in similar_indices]\n",
    "    results[row['id']] = similar_items[1:]\n",
    "    \n",
    "print('done!')\n",
    ""
   ]
  },
  {
   "cell_type": "code",
   "execution_count": 11,
   "metadata": {},
   "outputs": [],
   "source": [
    "def item(id):\n",
    "    return (ds.loc[ds['id'] == id]['id']).tolist()[0]\n",
    "\n",
    "def recommend(item_id, num):\n",
    "    ids = []\n",
    "    recs = results[item_id][:num]\n",
    "    for rec in recs:\n",
    "        value = (ds.loc[ds['id'] == rec[1]]['id']).tolist()[0]\n",
    "        ids.append(value)\n",
    "    df = ds[ds['id'].isin(ids)]\n",
    "    return df\n",
    "        \n",
    ""
   ]
  },
  {
   "cell_type": "code",
   "execution_count": 19,
   "metadata": {},
   "outputs": [
    {
     "output_type": "stream",
     "name": "stdout",
     "text": "Wall time: 13 ms\n"
    },
    {
     "output_type": "execute_result",
     "data": {
      "text/plain": "        id                    title  \\\n2131  2491  Story of Us, The (1999)   \n2259  2619       Toy Story 2 (1999)   \n3499  3859          Toy, The (1982)   \n3993  4353      Toy Soldiers (1991)   \n7259  7619       Toy Story 3 (2010)   \n\n                                                genres  \n2131                                      Comedy|Drama  \n2259       Adventure|Animation|Children|Comedy|Fantasy  \n3499                                            Comedy  \n3993                                      Action|Drama  \n7259  Adventure|Animation|Children|Comedy|Fantasy|IMAX  ",
      "text/html": "<div>\n<style scoped>\n    .dataframe tbody tr th:only-of-type {\n        vertical-align: middle;\n    }\n\n    .dataframe tbody tr th {\n        vertical-align: top;\n    }\n\n    .dataframe thead th {\n        text-align: right;\n    }\n</style>\n<table border=\"1\" class=\"dataframe\">\n  <thead>\n    <tr style=\"text-align: right;\">\n      <th></th>\n      <th>id</th>\n      <th>title</th>\n      <th>genres</th>\n    </tr>\n  </thead>\n  <tbody>\n    <tr>\n      <th>2131</th>\n      <td>2491</td>\n      <td>Story of Us, The (1999)</td>\n      <td>Comedy|Drama</td>\n    </tr>\n    <tr>\n      <th>2259</th>\n      <td>2619</td>\n      <td>Toy Story 2 (1999)</td>\n      <td>Adventure|Animation|Children|Comedy|Fantasy</td>\n    </tr>\n    <tr>\n      <th>3499</th>\n      <td>3859</td>\n      <td>Toy, The (1982)</td>\n      <td>Comedy</td>\n    </tr>\n    <tr>\n      <th>3993</th>\n      <td>4353</td>\n      <td>Toy Soldiers (1991)</td>\n      <td>Action|Drama</td>\n    </tr>\n    <tr>\n      <th>7259</th>\n      <td>7619</td>\n      <td>Toy Story 3 (2010)</td>\n      <td>Adventure|Animation|Children|Comedy|Fantasy|IMAX</td>\n    </tr>\n  </tbody>\n</table>\n</div>"
     },
     "metadata": {},
     "execution_count": 19
    }
   ],
   "source": [
    "%%time\n",
    "recommend(item_id=1, num=5)"
   ]
  },
  {
   "cell_type": "code",
   "execution_count": null,
   "metadata": {},
   "outputs": [],
   "source": []
  }
 ]
}